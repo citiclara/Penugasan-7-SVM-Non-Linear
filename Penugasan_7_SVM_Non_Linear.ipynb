{
  "nbformat": 4,
  "nbformat_minor": 0,
  "metadata": {
    "colab": {
      "provenance": []
    },
    "kernelspec": {
      "name": "python3",
      "display_name": "Python 3"
    },
    "language_info": {
      "name": "python"
    }
  },
  "cells": [
    {
      "cell_type": "markdown",
      "source": [
        "**1. Import Library**"
      ],
      "metadata": {
        "id": "GEnaBbZL5UGA"
      }
    },
    {
      "cell_type": "code",
      "execution_count": null,
      "metadata": {
        "id": "7xp-o1wCnDsR"
      },
      "outputs": [],
      "source": [
        "import pandas as pd\n",
        "import numpy as np\n",
        "import matplotlib.pyplot as plt\n",
        "import seaborn as sns\n",
        "from sklearn.model_selection import train_test_split, GridSearchCV, cross_val_score\n",
        "from sklearn.svm import SVC\n",
        "from sklearn.preprocessing import StandardScaler, LabelEncoder\n",
        "from sklearn.metrics import classification_report, confusion_matrix, accuracy_score\n",
        "from sklearn.metrics import roc_curve, auc, precision_recall_curve\n",
        "import warnings\n",
        "warnings.filterwarnings('ignore')"
      ]
    },
    {
      "cell_type": "markdown",
      "source": [
        "Konfigurasi Plot"
      ],
      "metadata": {
        "id": "eWYUzXNf6oa1"
      }
    },
    {
      "cell_type": "code",
      "source": [
        "plt.style.use('ggplot')\n",
        "sns.set_palette(\"husl\")"
      ],
      "metadata": {
        "id": "4lQnEPkf6qM4"
      },
      "execution_count": null,
      "outputs": []
    },
    {
      "cell_type": "markdown",
      "source": [
        "**2. Load dan Eksplorasi Dataset**"
      ],
      "metadata": {
        "id": "pGao6K4x7J1n"
      }
    },
    {
      "cell_type": "code",
      "source": [
        "# Load dataset\n",
        "df = pd.read_csv('student_performance_dataset.csv', delimiter=';')"
      ],
      "metadata": {
        "id": "V6xeUy2T7UiJ"
      },
      "execution_count": null,
      "outputs": []
    },
    {
      "cell_type": "code",
      "source": [
        "print(\"\\n1. EKSPLORASI DATA\")\n",
        "print(\"-\" * 30)\n",
        "print(f\"Shape dataset: {df.shape}\")\n",
        "print(f\"\\nKolom dataset:\\n{df.columns.tolist()}\")\n",
        "\n",
        "# menampilkan 5 baris pertama\n",
        "print(f\"\\nSample data:\")\n",
        "pd.set_option('display.width', 1000)\n",
        "pd.set_option('display.max_columns', None)\n",
        "print(df.head())\n"
      ],
      "metadata": {
        "colab": {
          "base_uri": "https://localhost:8080/"
        },
        "id": "2KZGlHNQ7xYT",
        "outputId": "3346211a-e806-4a14-d448-48e219ddde90"
      },
      "execution_count": null,
      "outputs": [
        {
          "output_type": "stream",
          "name": "stdout",
          "text": [
            "\n",
            "1. EKSPLORASI DATA\n",
            "------------------------------\n",
            "Shape dataset: (708, 10)\n",
            "\n",
            "Kolom dataset:\n",
            "['Student_ID', 'Gender', 'Study_Hours_per_Week', 'Attendance_Rate', 'Past_Exam_Scores', 'Parental_Education_Level', 'Internet_Access_at_Home', 'Extracurricular_Activities', 'Final_Exam_Score', 'Pass_Fail']\n",
            "\n",
            "Sample data:\n",
            "  Student_ID  Gender  Study_Hours_per_Week        Attendance_Rate  Past_Exam_Scores Parental_Education_Level Internet_Access_at_Home Extracurricular_Activities  Final_Exam_Score Pass_Fail\n",
            "0       S147    Male                    31  6.826.784.098.370.280                86              High School                     Yes                        Yes                63      Pass\n",
            "1       S136    Male                    16  7.822.292.712.613.200                73                      PhD                      No                         No                50      Fail\n",
            "2       S209  Female                    21  8.752.509.623.826.560                74                      PhD                     Yes                         No                55      Fail\n",
            "3       S458  Female                    27  9.207.648.301.550.210                99                Bachelors                      No                         No                65      Pass\n",
            "4       S078  Female                    37  9.865.551.746.350.520                63                  Masters                      No                        Yes                70      Pass\n"
          ]
        }
      ]
    },
    {
      "cell_type": "markdown",
      "source": [
        "**3. Prepocessing Data**"
      ],
      "metadata": {
        "id": "xT7n1gsF9QBM"
      }
    },
    {
      "cell_type": "code",
      "source": [
        "# Hapus baris dengan missing values di kolom 'Pass_Fail'\n",
        "df_clean = df.dropna(subset=['Pass_Fail']).copy()"
      ],
      "metadata": {
        "id": "y3X9240i9Tae"
      },
      "execution_count": null,
      "outputs": []
    },
    {
      "cell_type": "code",
      "source": [
        "# Hapus kolom Student_ID\n",
        "df_clean = df_clean.drop('Student_ID', axis=1)\n",
        "print(df_clean.head())"
      ],
      "metadata": {
        "colab": {
          "base_uri": "https://localhost:8080/"
        },
        "id": "NWneEJaz_553",
        "outputId": "e231a426-b863-437e-dfbb-9782a11f2464"
      },
      "execution_count": null,
      "outputs": [
        {
          "output_type": "stream",
          "name": "stdout",
          "text": [
            "   Gender  Study_Hours_per_Week        Attendance_Rate  Past_Exam_Scores Parental_Education_Level Internet_Access_at_Home Extracurricular_Activities  Final_Exam_Score Pass_Fail\n",
            "0    Male                    31  6.826.784.098.370.280                86              High School                     Yes                        Yes                63      Pass\n",
            "1    Male                    16  7.822.292.712.613.200                73                      PhD                      No                         No                50      Fail\n",
            "2  Female                    21  8.752.509.623.826.560                74                      PhD                     Yes                         No                55      Fail\n",
            "3  Female                    27  9.207.648.301.550.210                99                Bachelors                      No                         No                65      Pass\n",
            "4  Female                    37  9.865.551.746.350.520                63                  Masters                      No                        Yes                70      Pass\n"
          ]
        }
      ]
    },
    {
      "cell_type": "code",
      "source": [
        "# Encoding categorical variables\n",
        "label_encoders = {}\n",
        "categorical_columns = ['Gender', 'Parental_Education_Level', 'Internet_Access_at_Home',\n",
        "                      'Extracurricular_Activities']\n",
        "\n",
        "for col in categorical_columns:\n",
        "    le = LabelEncoder()\n",
        "    df_clean[col] = le.fit_transform(df_clean[col])\n",
        "    label_encoders[col] = le\n",
        "    print(f\"\\nEncoded {col}: {dict(zip(le.classes_, le.transform(le.classes_)))}\")\n",
        "    print(f\"\\nDataframe setelah encoding kolom '{col}':\")\n",
        "    print(df_clean.head())   # tampilkan 5 baris pertama\n"
      ],
      "metadata": {
        "colab": {
          "base_uri": "https://localhost:8080/"
        },
        "id": "uPOcJBaDAChB",
        "outputId": "bf6abb1d-4344-4522-8d18-d39a04af38c3"
      },
      "execution_count": null,
      "outputs": [
        {
          "output_type": "stream",
          "name": "stdout",
          "text": [
            "\n",
            "Encoded Gender: {'Female': np.int64(0), 'Male': np.int64(1)}\n",
            "\n",
            "Dataframe setelah encoding kolom 'Gender':\n",
            "   Gender  Study_Hours_per_Week        Attendance_Rate  Past_Exam_Scores Parental_Education_Level Internet_Access_at_Home Extracurricular_Activities  Final_Exam_Score Pass_Fail\n",
            "0       1                    31  6.826.784.098.370.280                86              High School                     Yes                        Yes                63      Pass\n",
            "1       1                    16  7.822.292.712.613.200                73                      PhD                      No                         No                50      Fail\n",
            "2       0                    21  8.752.509.623.826.560                74                      PhD                     Yes                         No                55      Fail\n",
            "3       0                    27  9.207.648.301.550.210                99                Bachelors                      No                         No                65      Pass\n",
            "4       0                    37  9.865.551.746.350.520                63                  Masters                      No                        Yes                70      Pass\n",
            "\n",
            "Encoded Parental_Education_Level: {'Bachelors': np.int64(0), 'High School': np.int64(1), 'Masters': np.int64(2), 'PhD': np.int64(3)}\n",
            "\n",
            "Dataframe setelah encoding kolom 'Parental_Education_Level':\n",
            "   Gender  Study_Hours_per_Week        Attendance_Rate  Past_Exam_Scores  Parental_Education_Level Internet_Access_at_Home Extracurricular_Activities  Final_Exam_Score Pass_Fail\n",
            "0       1                    31  6.826.784.098.370.280                86                         1                     Yes                        Yes                63      Pass\n",
            "1       1                    16  7.822.292.712.613.200                73                         3                      No                         No                50      Fail\n",
            "2       0                    21  8.752.509.623.826.560                74                         3                     Yes                         No                55      Fail\n",
            "3       0                    27  9.207.648.301.550.210                99                         0                      No                         No                65      Pass\n",
            "4       0                    37  9.865.551.746.350.520                63                         2                      No                        Yes                70      Pass\n",
            "\n",
            "Encoded Internet_Access_at_Home: {'No': np.int64(0), 'Yes': np.int64(1)}\n",
            "\n",
            "Dataframe setelah encoding kolom 'Internet_Access_at_Home':\n",
            "   Gender  Study_Hours_per_Week        Attendance_Rate  Past_Exam_Scores  Parental_Education_Level  Internet_Access_at_Home Extracurricular_Activities  Final_Exam_Score Pass_Fail\n",
            "0       1                    31  6.826.784.098.370.280                86                         1                        1                        Yes                63      Pass\n",
            "1       1                    16  7.822.292.712.613.200                73                         3                        0                         No                50      Fail\n",
            "2       0                    21  8.752.509.623.826.560                74                         3                        1                         No                55      Fail\n",
            "3       0                    27  9.207.648.301.550.210                99                         0                        0                         No                65      Pass\n",
            "4       0                    37  9.865.551.746.350.520                63                         2                        0                        Yes                70      Pass\n",
            "\n",
            "Encoded Extracurricular_Activities: {'No': np.int64(0), 'Yes': np.int64(1)}\n",
            "\n",
            "Dataframe setelah encoding kolom 'Extracurricular_Activities':\n",
            "   Gender  Study_Hours_per_Week        Attendance_Rate  Past_Exam_Scores  Parental_Education_Level  Internet_Access_at_Home  Extracurricular_Activities  Final_Exam_Score Pass_Fail\n",
            "0       1                    31  6.826.784.098.370.280                86                         1                        1                           1                63      Pass\n",
            "1       1                    16  7.822.292.712.613.200                73                         3                        0                           0                50      Fail\n",
            "2       0                    21  8.752.509.623.826.560                74                         3                        1                           0                55      Fail\n",
            "3       0                    27  9.207.648.301.550.210                99                         0                        0                           0                65      Pass\n",
            "4       0                    37  9.865.551.746.350.520                63                         2                        0                           1                70      Pass\n"
          ]
        }
      ]
    },
    {
      "cell_type": "code",
      "source": [
        "# Encoding target variable\n",
        "target_encoder = LabelEncoder()\n",
        "df_clean['Pass_Fail'] = target_encoder.fit_transform(df_clean['Pass_Fail'])\n",
        "print(f\"Target encoding: {dict(zip(target_encoder.classes_, target_encoder.transform(target_encoder.classes_)))}\")"
      ],
      "metadata": {
        "colab": {
          "base_uri": "https://localhost:8080/"
        },
        "id": "PrXOh04GCFM7",
        "outputId": "2304c5fe-c042-40c6-9abb-ab662d5ebc28"
      },
      "execution_count": null,
      "outputs": [
        {
          "output_type": "stream",
          "name": "stdout",
          "text": [
            "Target encoding: {'Fail': np.int64(0), 'Pass': np.int64(1)}\n"
          ]
        }
      ]
    },
    {
      "cell_type": "code",
      "source": [
        "# Memisahkan features dan target\n",
        "X = df_clean.drop('Pass_Fail', axis=1)\n",
        "y = df_clean['Pass_Fail']\n",
        "\n",
        "print(\"Fitur (X):\")\n",
        "print(X.head())\n",
        "\n",
        "print(\"\\nTarget (y):\")\n",
        "print(y.head())"
      ],
      "metadata": {
        "colab": {
          "base_uri": "https://localhost:8080/"
        },
        "id": "-4XbN9e0DpvS",
        "outputId": "55431101-7b7d-4517-fc07-e1f882292473"
      },
      "execution_count": null,
      "outputs": [
        {
          "output_type": "stream",
          "name": "stdout",
          "text": [
            "Fitur (X):\n",
            "   Gender  Study_Hours_per_Week        Attendance_Rate  Past_Exam_Scores  Parental_Education_Level  Internet_Access_at_Home  Extracurricular_Activities  Final_Exam_Score\n",
            "0       1                    31  6.826.784.098.370.280                86                         1                        1                           1                63\n",
            "1       1                    16  7.822.292.712.613.200                73                         3                        0                           0                50\n",
            "2       0                    21  8.752.509.623.826.560                74                         3                        1                           0                55\n",
            "3       0                    27  9.207.648.301.550.210                99                         0                        0                           0                65\n",
            "4       0                    37  9.865.551.746.350.520                63                         2                        0                           1                70\n",
            "\n",
            "Target (y):\n",
            "0    1\n",
            "1    0\n",
            "2    0\n",
            "3    1\n",
            "4    1\n",
            "Name: Pass_Fail, dtype: int64\n"
          ]
        }
      ]
    },
    {
      "cell_type": "markdown",
      "source": [
        "**4. Split data dan Scaling**"
      ],
      "metadata": {
        "id": "M8bHFxSIPO1I"
      }
    },
    {
      "cell_type": "code",
      "source": [
        "# Split data\n",
        "X_train, X_test, y_train, y_test = train_test_split(\n",
        "    X, y, test_size=0.2, random_state=42, stratify=y\n",
        ")\n",
        "\n",
        "print(f\"Training set: {X_train.shape}\")\n",
        "print(f\"Test set: {X_test.shape}\")"
      ],
      "metadata": {
        "colab": {
          "base_uri": "https://localhost:8080/"
        },
        "id": "L-3049R-PSaw",
        "outputId": "8865f49d-a888-4b3d-cb05-4f7eb1db8d84"
      },
      "execution_count": null,
      "outputs": [
        {
          "output_type": "stream",
          "name": "stdout",
          "text": [
            "Training set: (566, 8)\n",
            "Test set: (142, 8)\n"
          ]
        }
      ]
    },
    {
      "cell_type": "code",
      "source": [
        "# Scaling data\n",
        "scaler = StandardScaler()\n",
        "X_train_scaled = scaler.fit_transform(X_train)\n",
        "X_test_scaled = scaler.transform(X_test)\n",
        "print(\"\\nContoh X_train sebelum scaling:\")\n",
        "print(pd.DataFrame(X_train, columns=X.columns).head())\n",
        "\n",
        "print(\"\\nContoh X_train_scaled:\")\n",
        "print(pd.DataFrame(X_train_scaled, columns=X.columns).head())"
      ],
      "metadata": {
        "id": "D-kOa7gtQxb9",
        "colab": {
          "base_uri": "https://localhost:8080/"
        },
        "outputId": "63b0e2f3-15eb-4529-b63f-9271ce19aa08"
      },
      "execution_count": null,
      "outputs": [
        {
          "output_type": "stream",
          "name": "stdout",
          "text": [
            "\n",
            "Contoh X_train sebelum scaling:\n",
            "     Gender  Study_Hours_per_Week  Attendance_Rate  Past_Exam_Scores  Parental_Education_Level  Internet_Access_at_Home  Extracurricular_Activities  Final_Exam_Score\n",
            "254       1                    31     6.687234e+14                81                         3                        1                           0                59\n",
            "56        1                    10     9.125663e+15                85                         0                        1                           1                63\n",
            "362       0                    30     5.571337e+16                78                         2                        1                           0                50\n",
            "211       0                    39     5.461453e+14                73                         1                        0                           1                60\n",
            "662       1                    25     8.018608e+15                83                         1                        0                           0                67\n",
            "\n",
            "Contoh X_train_scaled:\n",
            "     Gender  Study_Hours_per_Week  Attendance_Rate  Past_Exam_Scores  Parental_Education_Level  Internet_Access_at_Home  Extracurricular_Activities  Final_Exam_Score\n",
            "0  1.047042              0.558434        -0.760467          0.256572                  1.377788                 1.116258                   -1.007092          0.035714\n",
            "1  1.047042             -1.806206        -0.094705          0.538415                 -1.292856                 1.116258                    0.992958          0.625915\n",
            "2 -0.955072              0.445832         3.572857          0.045190                  0.487573                 1.116258                   -1.007092         -1.292237\n",
            "3 -0.955072              1.459249        -0.770117         -0.307115                 -0.402641                -0.895850                    0.992958          0.183265\n",
            "4  1.047042             -0.117178        -0.181856          0.397494                 -0.402641                -0.895850                   -1.007092          1.216115\n",
            "Data berhasil di-scaling menggunakan StandardScaler\n"
          ]
        }
      ]
    },
    {
      "cell_type": "markdown",
      "source": [
        "**5. Implementasi SVM dengan Kernel trick (RBF) + tuning**"
      ],
      "metadata": {
        "id": "_Pzpqnduzafb"
      }
    },
    {
      "cell_type": "code",
      "source": [
        "param_grid = {\n",
        "    'C': [0.1, 1, 10, 100],  # Box Constraint Level\n",
        "    'gamma': [0.01, 0.1, 1, 10],  # Kernel Scale untuk RBF\n",
        "    'kernel': ['rbf']\n",
        "}"
      ],
      "metadata": {
        "id": "gLVmfL6X2-kW"
      },
      "execution_count": null,
      "outputs": []
    },
    {
      "cell_type": "code",
      "source": [
        "# Grid Search\n",
        "grid_search = GridSearchCV(\n",
        "    SVC(random_state=42),\n",
        "    param_grid,\n",
        "    cv=5,\n",
        "    scoring='accuracy',\n",
        "    n_jobs=-1,\n",
        "    verbose=1\n",
        ")\n",
        "\n",
        "grid_search.fit(X_train_scaled, y_train)\n",
        "\n",
        "print(f\"\\nBest parameters: {grid_search.best_params_}\")\n",
        "print(f\"Best cross-validation score: {grid_search.best_score_:.4f}\")"
      ],
      "metadata": {
        "colab": {
          "base_uri": "https://localhost:8080/"
        },
        "id": "c7St0NXg5HWC",
        "outputId": "b37c183c-0903-475e-d2af-2ad4ae13a804"
      },
      "execution_count": null,
      "outputs": [
        {
          "output_type": "stream",
          "name": "stdout",
          "text": [
            "Fitting 5 folds for each of 16 candidates, totalling 80 fits\n",
            "\n",
            "Best parameters: {'C': 100, 'gamma': 0.01, 'kernel': 'rbf'}\n",
            "Best cross-validation score: 0.9965\n"
          ]
        }
      ]
    },
    {
      "cell_type": "markdown",
      "source": [
        "**6. Evaluasi Model Terbaik**"
      ],
      "metadata": {
        "id": "VLdQntu_8zlV"
      }
    },
    {
      "cell_type": "code",
      "source": [
        "best_svm = grid_search.best_estimator_\n",
        "print(\"\\nBest SVM model (dari GridSearchCV):\")\n",
        "print(best_svm)"
      ],
      "metadata": {
        "colab": {
          "base_uri": "https://localhost:8080/"
        },
        "id": "pC3RtO0kC7x3",
        "outputId": "005bd730-14c2-4ca3-bf82-c971157595b9"
      },
      "execution_count": null,
      "outputs": [
        {
          "output_type": "stream",
          "name": "stdout",
          "text": [
            "\n",
            "Best SVM model (dari GridSearchCV):\n",
            "SVC(C=100, gamma=0.01, random_state=42)\n"
          ]
        }
      ]
    },
    {
      "cell_type": "code",
      "source": [
        "y_pred = best_svm.predict(X_test_scaled)\n",
        "print(\"\\nContoh hasil prediksi pertama 10 data test:\")\n",
        "print(y_pred[:10])"
      ],
      "metadata": {
        "colab": {
          "base_uri": "https://localhost:8080/"
        },
        "id": "zMPg8wSbD7ou",
        "outputId": "5923551d-875c-4fa3-e3cc-70b97ba3b47d"
      },
      "execution_count": null,
      "outputs": [
        {
          "output_type": "stream",
          "name": "stdout",
          "text": [
            "\n",
            "Contoh hasil prediksi pertama 10 data test:\n",
            "[0 0 1 1 1 1 1 0 1 1]\n"
          ]
        }
      ]
    },
    {
      "cell_type": "code",
      "source": [
        "accuracy = accuracy_score(y_test, y_pred)\n",
        "print(f\"\\nTest Accuracy: {accuracy:.4f}\")"
      ],
      "metadata": {
        "colab": {
          "base_uri": "https://localhost:8080/"
        },
        "id": "W3EtawNbD_LT",
        "outputId": "4812d00c-4841-4589-dcd4-6d3c02854bec"
      },
      "execution_count": null,
      "outputs": [
        {
          "output_type": "stream",
          "name": "stdout",
          "text": [
            "\n",
            "Test Accuracy: 0.9930\n"
          ]
        }
      ]
    },
    {
      "cell_type": "code",
      "source": [
        "print(\"\\nClassification Report:\")\n",
        "print(classification_report(y_test, y_pred, target_names=['Fail', 'Pass']))"
      ],
      "metadata": {
        "colab": {
          "base_uri": "https://localhost:8080/"
        },
        "id": "qyC8WX2YECM6",
        "outputId": "2d3fea4e-f0f2-4ba5-fde4-8f7798f6397c"
      },
      "execution_count": null,
      "outputs": [
        {
          "output_type": "stream",
          "name": "stdout",
          "text": [
            "\n",
            "Classification Report:\n",
            "              precision    recall  f1-score   support\n",
            "\n",
            "        Fail       0.99      1.00      0.99        71\n",
            "        Pass       1.00      0.99      0.99        71\n",
            "\n",
            "    accuracy                           0.99       142\n",
            "   macro avg       0.99      0.99      0.99       142\n",
            "weighted avg       0.99      0.99      0.99       142\n",
            "\n"
          ]
        }
      ]
    },
    {
      "cell_type": "code",
      "source": [
        "# Confusion Matrix\n",
        "cm = confusion_matrix(y_test, y_pred)\n",
        "plt.figure(figsize=(6, 5))\n",
        "sns.heatmap(cm, annot=True, fmt='d', cmap='Blues', xticklabels=['Fail', 'Pass'], yticklabels=['Fail', 'Pass'])\n",
        "plt.title('Confusion Matrix - Best SVM (RBF)')\n",
        "plt.xlabel('Predicted')\n",
        "plt.ylabel('Actual')\n",
        "plt.tight_layout()\n",
        "plt.show()\n"
      ],
      "metadata": {
        "colab": {
          "base_uri": "https://localhost:8080/",
          "height": 507
        },
        "id": "YCMXlqmbEb5N",
        "outputId": "bf24eb58-4252-4409-e4fb-5e6061170661"
      },
      "execution_count": null,
      "outputs": [
        {
          "output_type": "display_data",
          "data": {
            "text/plain": [
              "<Figure size 600x500 with 2 Axes>"
            ],
            "image/png": "[encoded data removed]"
          },
          "metadata": {}
        }
      ]
    },
    {
      "cell_type": "markdown",
      "source": [
        "**7. Analisis keunggulan & keterbatasan SVM**"
      ],
      "metadata": {
        "id": "WkTREDjXEfHn"
      }
    },
    {
      "cell_type": "code",
      "source": [
        "print(\"\\nKEUNGGULAN SVM:\")\n",
        "print(\"- Efektif untuk data berdimensi tinggi\")\n",
        "print(\"- Kernel trick memungkinkan pemisahan non-linear\")\n",
        "print(\"- Menggunakan support vectors, efisien di memori\")\n",
        "\n",
        "print(\"\\nKETERBATASAN SVM:\")\n",
        "print(\"- Butuh tuning parameter (C, gamma, kernel)\")\n",
        "print(\"- Sensitif terhadap feature scaling\")\n",
        "print(\"- Kurang cocok untuk dataset yang sangat besar\")"
      ],
      "metadata": {
        "colab": {
          "base_uri": "https://localhost:8080/"
        },
        "id": "8Us6FV0zEkrW",
        "outputId": "cb1b795b-290f-4529-bcd4-3b2599606064"
      },
      "execution_count": null,
      "outputs": [
        {
          "output_type": "stream",
          "name": "stdout",
          "text": [
            "\n",
            "KEUNGGULAN SVM:\n",
            "- Efektif untuk data berdimensi tinggi\n",
            "- Kernel trick memungkinkan pemisahan non-linear\n",
            "- Menggunakan support vectors, efisien di memori\n",
            "\n",
            "KETERBATASAN SVM:\n",
            "- Butuh tuning parameter (C, gamma, kernel)\n",
            "- Sensitif terhadap feature scaling\n",
            "- Kurang cocok untuk dataset yang sangat besar\n"
          ]
        }
      ]
    }
  ]
}